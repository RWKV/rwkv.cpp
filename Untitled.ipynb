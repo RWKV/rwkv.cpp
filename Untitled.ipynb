{
 "cells": [
  {
   "cell_type": "code",
   "execution_count": 1,
   "id": "37151156-accd-4ec2-971e-c6adfb38bdad",
   "metadata": {},
   "outputs": [],
   "source": [
    "import ctypes"
   ]
  },
  {
   "cell_type": "code",
   "execution_count": 2,
   "id": "b22412f8-55bd-4c38-9bfe-f1a488d15cfe",
   "metadata": {},
   "outputs": [
    {
     "name": "stdout",
     "output_type": "stream",
     "text": [
      "CMakeCache.txt\t     compile_commands.json  LICENSE    rwkv.cpp\n",
      "CMakeFiles\t     ggml.c\t\t    Makefile   rwkv.h\n",
      "cmake_install.cmake  ggml.h\t\t    README.md  Untitled.ipynb\n",
      "CMakeLists.txt\t     librwkv.so\t\t    rwkv\n"
     ]
    }
   ],
   "source": [
    "!ls"
   ]
  },
  {
   "cell_type": "code",
   "execution_count": null,
   "id": "286bf577-d165-4cbb-81fc-3126411fafea",
   "metadata": {},
   "outputs": [],
   "source": []
  },
  {
   "cell_type": "code",
   "execution_count": 4,
   "id": "5eba6e2b-f13c-4ba8-b688-06d952b5ae68",
   "metadata": {},
   "outputs": [
    {
     "data": {
      "text/plain": [
       "<CDLL './librwkv.so', handle 33efa50 at 0x7fbfd7d68040>"
      ]
     },
     "execution_count": 4,
     "metadata": {},
     "output_type": "execute_result"
    }
   ],
   "source": [
    "ctypes.cdll.LoadLibrary(\"./librwkv.so\")"
   ]
  },
  {
   "cell_type": "code",
   "execution_count": 5,
   "id": "6918644e-5ae0-4352-8651-da0e0381e94e",
   "metadata": {},
   "outputs": [],
   "source": [
    "import sys"
   ]
  },
  {
   "cell_type": "code",
   "execution_count": 6,
   "id": "73aec2e9-329f-47a1-827d-873a89b8f834",
   "metadata": {},
   "outputs": [
    {
     "data": {
      "text/plain": [
       "'linux'"
      ]
     },
     "execution_count": 6,
     "metadata": {},
     "output_type": "execute_result"
    }
   ],
   "source": [
    "sys.platform"
   ]
  },
  {
   "cell_type": "code",
   "execution_count": null,
   "id": "43436b21-35bd-4c1f-bf06-79ae93f22c64",
   "metadata": {},
   "outputs": [],
   "source": [
    "/home/eric/Downloads/rwkv.cpp-171M-Q4_1.bin"
   ]
  }
 ],
 "metadata": {
  "kernelspec": {
   "display_name": "assistant-dev",
   "language": "python",
   "name": "assistant-dev"
  },
  "language_info": {
   "codemirror_mode": {
    "name": "ipython",
    "version": 3
   },
   "file_extension": ".py",
   "mimetype": "text/x-python",
   "name": "python",
   "nbconvert_exporter": "python",
   "pygments_lexer": "ipython3",
   "version": "3.10.10"
  }
 },
 "nbformat": 4,
 "nbformat_minor": 5
}
